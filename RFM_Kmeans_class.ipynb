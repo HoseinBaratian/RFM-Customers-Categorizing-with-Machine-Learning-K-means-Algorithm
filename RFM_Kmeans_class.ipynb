{
 "cells": [
  {
   "cell_type": "code",
   "execution_count": null,
   "metadata": {},
   "outputs": [],
   "source": [
    "import pandas as pd\n",
    "import numpy as np\n",
    "\n",
    "List = pd.read_excel('Sales.xlsx')\n",
    "\n",
    "List"
   ]
  },
  {
   "cell_type": "code",
   "execution_count": null,
   "metadata": {},
   "outputs": [],
   "source": [
    "#Determining Columns Name\n",
    "Customer_ID = 'Customer_ID'\n",
    "Order_Date = 'Purchase_Date'\n",
    "Revenue = 'Net_Revenue'"
   ]
  },
  {
   "cell_type": "code",
   "execution_count": null,
   "metadata": {},
   "outputs": [],
   "source": [
    "#Parameter Setting\n",
    "Recency_weight=0.2\n",
    "Frequency_weight=0.5\n",
    "Monetary_weight=0.3"
   ]
  },
  {
   "cell_type": "code",
   "execution_count": null,
   "metadata": {},
   "outputs": [],
   "source": [
    "#Recency\n",
    "Recency = List.groupby(by='Customer_ID', as_index=False)[Order_Date].max()\n",
    "Recency.columns = ['Customer_ID', 'Last_Order_Date']\n",
    "Recency.Last_Order_Date = pd.to_datetime(Recency['Last_Order_Date'])\n",
    "Last_date = Recency.Last_Order_Date.max()\n",
    "Recency['Recency'] = Recency['Last_Order_Date'].apply(lambda x: (Last_date - x).days)\n",
    "Recency"
   ]
  },
  {
   "cell_type": "code",
   "execution_count": null,
   "metadata": {},
   "outputs": [],
   "source": [
    "#Frequency\n",
    "\n",
    "Frequency = List.drop_duplicates().groupby(by=Customer_ID, as_index=False)[Order_Date ].count()\n",
    "Frequency.columns = ['Customer_ID','Frequency']"
   ]
  },
  {
   "cell_type": "code",
   "execution_count": null,
   "metadata": {},
   "outputs": [],
   "source": [
    "# Monetary\n",
    "\n",
    "Monetary = List.groupby(by=Customer_ID, as_index=False)[Revenue].sum()\n",
    "Monetary.columns = ['Customer_ID','Monetary']"
   ]
  },
  {
   "cell_type": "code",
   "execution_count": null,
   "metadata": {},
   "outputs": [],
   "source": [
    "InitialMerged_List = Recency.merge(Frequency, on='Customer_ID')\n",
    "result_RFM = InitialMerged_List.merge(Monetary, on='Customer_ID').drop(columns='Last_Order_Date')\n",
    "result_RFM"
   ]
  },
  {
   "cell_type": "code",
   "execution_count": null,
   "metadata": {},
   "outputs": [],
   "source": [
    "#Ranking\n",
    "\n",
    "result_RFM['R_rank'] = result_RFM['Recency'].rank(ascending = False)\n",
    "result_RFM['F_rank'] = result_RFM['Frequency'].rank(ascending = True)\n",
    "result_RFM['M_rank'] = result_RFM['Monetary'].rank(ascending = True)\n",
    "result_RFM"
   ]
  },
  {
   "cell_type": "code",
   "execution_count": null,
   "metadata": {},
   "outputs": [],
   "source": [
    "#Scaling\n",
    "\n",
    "result_RFM['R_rank_norm'] = (result_RFM['R_rank']/result_RFM['R_rank'].max())*100\n",
    "result_RFM['F_rank_norm'] = (result_RFM['F_rank']/result_RFM['F_rank'].max())*100\n",
    "result_RFM['M_rank_norm'] = (result_RFM['M_rank']/result_RFM['M_rank'].max())*100\n",
    "\n",
    "result_RFM.drop(columns=['R_rank','F_rank','M_rank'], inplace=True)\n",
    "result_RFM"
   ]
  },
  {
   "cell_type": "code",
   "execution_count": null,
   "metadata": {},
   "outputs": [],
   "source": [
    "#Scoring\n",
    "\n",
    "result_RFM['RFM_Score'] = Recency_weight*result_RFM['R_rank_norm']+Frequency_weight*result_RFM['F_rank_norm']+Monetary_weight*result_RFM['M_rank_norm']\n",
    "result_RFM['RFM_Score'] *= 0.05\n",
    "result_RFM = result_RFM.round(2)\n",
    "result_RFM"
   ]
  },
  {
   "cell_type": "code",
   "execution_count": null,
   "metadata": {},
   "outputs": [],
   "source": [
    "from sklearn.cluster import KMeans\n",
    "import matplotlib.pyplot as plt"
   ]
  },
  {
   "cell_type": "code",
   "execution_count": null,
   "metadata": {},
   "outputs": [],
   "source": [
    "X = result_RFM[['R_rank_norm','F_rank_norm','M_rank_norm']]"
   ]
  },
  {
   "cell_type": "code",
   "execution_count": null,
   "metadata": {},
   "outputs": [],
   "source": [
    "inertia=[]\n",
    "for i in range (2,15):\n",
    "    kmn = KMeans(n_clusters=i, n_init=10 , random_state= 42)\n",
    "    kmn.fit(X)\n",
    "    inertia.append(kmn.inertia_)\n",
    "\n",
    "# Plot\n",
    "plt.figure(figsize=(8,6), dpi=150)\n",
    "plt.plot(range(2,15),inertia, marker = 'o')\n",
    "plt.xlabel('k')\n",
    "plt.ylabel('Inertia')\n",
    "plt.title('Elbow Curve')\n",
    "plt.grid(True)\n",
    "plt.show()"
   ]
  },
  {
   "cell_type": "code",
   "execution_count": null,
   "metadata": {},
   "outputs": [],
   "source": [
    "# k = 8\n",
    "best_kmeans = KMeans(n_clusters=8, n_init=10, random_state=42)\n",
    "result_RFM['Cluster'] = best_kmeans.fit_predict(X)\n"
   ]
  },
  {
   "cell_type": "code",
   "execution_count": null,
   "metadata": {},
   "outputs": [],
   "source": [
    "result_RFM.describe()"
   ]
  },
  {
   "cell_type": "code",
   "execution_count": null,
   "metadata": {},
   "outputs": [],
   "source": [
    "Cluster_summary = result_RFM.groupby('Cluster').agg(\n",
    "    {'Recency':'mean',\n",
    "    'Frequency':'mean',\n",
    "    'Monetary':'mean'}\n",
    "\n",
    ").reset_index()"
   ]
  },
  {
   "cell_type": "code",
   "execution_count": null,
   "metadata": {},
   "outputs": [],
   "source": [
    "print(Cluster_summary)"
   ]
  },
  {
   "cell_type": "code",
   "execution_count": null,
   "metadata": {},
   "outputs": [],
   "source": [
    "result_RFM.describe()"
   ]
  },
  {
   "cell_type": "code",
   "execution_count": null,
   "metadata": {},
   "outputs": [],
   "source": [
    "colors = ['#3498db', '#2ecc71', '#f39c12','#C9B1BD']\n",
    "\n",
    "plt.figure(figsize=(8,8),dpi=150)\n",
    "\n",
    "plt.subplot(3,1,1)\n",
    "bars=plt.bar(Cluster_summary.index,Cluster_summary['Recency'], color= colors)\n",
    "plt.xlabel('Cluster')\n",
    "plt.ylabel('Avg Recency')\n",
    "plt.title('Average Recency for Each Cluster')\n",
    "plt.grid(True, linestyle='--', alpha=0.5)\n",
    "plt.legend(bars,Cluster_summary.index, title='Clusters')\n",
    "\n",
    "\n",
    "plt.subplot(3,1,2)\n",
    "bars = plt.bar(Cluster_summary.index,Cluster_summary['Frequency'], color= colors)\n",
    "plt.xlabel('Cluster')\n",
    "plt.ylabel('Avg Frequency')\n",
    "plt.title('Average Frequency for Each Cluster')\n",
    "plt.grid(True, linestyle='--', alpha=0.5)\n",
    "plt.legend(bars,Cluster_summary.index, title='Clusters')\n",
    "\n",
    "plt.subplot(3,1,3)\n",
    "bars = plt.bar(Cluster_summary.index,Cluster_summary['Monetary'], color= colors)\n",
    "plt.xlabel('Cluster')\n",
    "plt.ylabel('Avg Monetary')\n",
    "plt.title('Average Monetary for Each Cluster')\n",
    "plt.grid(True, linestyle='--', alpha=0.5)\n",
    "plt.legend(bars,Cluster_summary.index, title='Clusters')\n",
    "\n",
    "plt.tight_layout()\n",
    "plt.show()"
   ]
  },
  {
   "cell_type": "code",
   "execution_count": null,
   "metadata": {},
   "outputs": [],
   "source": [
    "Labels = best_kmeans.labels_\n",
    "Centroids = best_kmeans.cluster_centers_\n",
    "\n",
    "plt.scatter(result_RFM['Recency'], result_RFM['Monetary'], s = 15, c = Labels)\n",
    "#plt.scatter(Centroids[:, 0], Centroids[:, 2], s = 60, c = 'r', marker = 'x')\n",
    "plt.xlabel('Recency')\n",
    "plt.ylabel('Monetary')"
   ]
  },
  {
   "cell_type": "code",
   "execution_count": null,
   "metadata": {},
   "outputs": [],
   "source": [
    "result_RFM.to_excel('RFM_Kmeans_Output.xlsx', index=False)"
   ]
  }
 ],
 "metadata": {
  "kernelspec": {
   "display_name": "Python 3",
   "language": "python",
   "name": "python3"
  },
  "language_info": {
   "codemirror_mode": {
    "name": "ipython",
    "version": 3
   },
   "file_extension": ".py",
   "mimetype": "text/x-python",
   "name": "python",
   "nbconvert_exporter": "python",
   "pygments_lexer": "ipython3",
   "version": "3.12.0"
  }
 },
 "nbformat": 4,
 "nbformat_minor": 2
}
